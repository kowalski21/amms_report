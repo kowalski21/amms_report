{
 "cells": [
  {
   "cell_type": "code",
   "execution_count": 1,
   "metadata": {},
   "outputs": [],
   "source": [
    "from mailmerge import MailMerge\n",
    "from munch import Munch\n",
    "from pathlib import Path\n",
    "import json"
   ]
  },
  {
   "cell_type": "code",
   "execution_count": 2,
   "metadata": {},
   "outputs": [],
   "source": [
    "male_file = Path(\"./male.json\")\n",
    "female_file = Path(\"./female.json\")"
   ]
  },
  {
   "cell_type": "code",
   "execution_count": 3,
   "metadata": {},
   "outputs": [],
   "source": [
    "with open(male_file.resolve()) as mb:\n",
    "    data_male = json.load(mb)\n",
    "\n",
    "with open(female_file.resolve()) as md:\n",
    "    data_female = json.load(md)\n",
    "\n"
   ]
  },
  {
   "cell_type": "code",
   "execution_count": 4,
   "metadata": {},
   "outputs": [],
   "source": [
    "# get male template\n",
    "\n",
    "template = Path(\"./templates/male_template.docx\")"
   ]
  },
  {
   "cell_type": "code",
   "execution_count": 5,
   "metadata": {},
   "outputs": [],
   "source": [
    "payload ={}\n",
    "payload.update(data_male[\"client\"])\n",
    "payload.update(data_male[\"parameters\"])"
   ]
  },
  {
   "cell_type": "code",
   "execution_count": 7,
   "metadata": {},
   "outputs": [],
   "source": [
    "# check bmi \n",
    "# bmi = float(payload[\"bmi\"])\n",
    "\n",
    "# if(bmi < 18.5): final_bmi = f\"{bmi}kg/m2(UnderWeight)\"\n",
    "# if(bmi in range(18.5,25)):  final_bmi = f\"{bmi}kg/m2(Normal)\"\n",
    "# if(bmi in range(25,30)):  final_bmi = f\"{bmi}kg/m2(Normal)\"\n",
    "# if(bmi >= 30.0 ):  final_\n",
    "# bmi = f\"{bmi}kg/m2(Obese)\"\n",
    "# payload['bmi']= final_bmi"
   ]
  },
  {
   "cell_type": "code",
   "execution_count": 8,
   "metadata": {},
   "outputs": [],
   "source": [
    "wei= payload[\"wei\"]\n",
    "payload[\"wei\"] = f\"{wei}kg\"\n",
    "\n",
    "\n"
   ]
  },
  {
   "cell_type": "code",
   "execution_count": 9,
   "metadata": {},
   "outputs": [],
   "source": [
    "# payload\n",
    "document = MailMerge(template.resolve())"
   ]
  },
  {
   "cell_type": "code",
   "execution_count": 10,
   "metadata": {},
   "outputs": [
    {
     "name": "stdout",
     "output_type": "stream",
     "text": [
      "{'lft', 'psa', 'eye_imp', 'rdt', 'urine', 'summary', 'chest', 'area', 'cns', 'conclusion', 'abdomen', 'fbc', 'widal', 'hepb', 'fbs', 'lipid', 'wei', 'dt', 'bp', 'age', 'height', 'reco', 'ent', 'eye_reco', 'stool', 'name', 'ref', 'ecg', 'bmi', 'heart', 'kft'}\n"
     ]
    }
   ],
   "source": [
    "print(document.get_merge_fields())"
   ]
  },
  {
   "cell_type": "code",
   "execution_count": 11,
   "metadata": {},
   "outputs": [],
   "source": [
    "document.merge(**payload)"
   ]
  },
  {
   "cell_type": "code",
   "execution_count": 12,
   "metadata": {},
   "outputs": [],
   "source": [
    "document.write(\"TestFile6.docx\")"
   ]
  },
  {
   "cell_type": "code",
   "execution_count": 13,
   "metadata": {},
   "outputs": [],
   "source": [
    "import pypandoc as pd"
   ]
  },
  {
   "cell_type": "code",
   "execution_count": 17,
   "metadata": {},
   "outputs": [
    {
     "ename": "RuntimeError",
     "evalue": "Pandoc died with exitcode \"47\" during conversion: pdflatex not found. Please select a different --pdf-engine or install pdflatex\n",
     "output_type": "error",
     "traceback": [
      "\u001b[0;31m---------------------------------------------------------------------------\u001b[0m",
      "\u001b[0;31mRuntimeError\u001b[0m                              Traceback (most recent call last)",
      "Cell \u001b[0;32mIn[17], line 1\u001b[0m\n\u001b[0;32m----> 1\u001b[0m pd\u001b[39m.\u001b[39;49mconvert_file(\u001b[39m'\u001b[39;49m\u001b[39mTestFile.docx\u001b[39;49m\u001b[39m'\u001b[39;49m, \u001b[39m'\u001b[39;49m\u001b[39mpdf\u001b[39;49m\u001b[39m'\u001b[39;49m, outputfile\u001b[39m=\u001b[39;49m\u001b[39m\"\u001b[39;49m\u001b[39mtest.pdf\u001b[39;49m\u001b[39m\"\u001b[39;49m)\n",
      "File \u001b[0;32m~/anaconda3/envs/fastapi/lib/python3.10/site-packages/pypandoc/__init__.py:168\u001b[0m, in \u001b[0;36mconvert_file\u001b[0;34m(source_file, to, format, extra_args, encoding, outputfile, filters, verify_format, sandbox, cworkdir)\u001b[0m\n\u001b[1;32m    165\u001b[0m \u001b[39mif\u001b[39;00m \u001b[39mlen\u001b[39m(discovered_source_files) \u001b[39m==\u001b[39m \u001b[39m1\u001b[39m:\n\u001b[1;32m    166\u001b[0m     discovered_source_files \u001b[39m=\u001b[39m discovered_source_files[\u001b[39m0\u001b[39m]\n\u001b[0;32m--> 168\u001b[0m \u001b[39mreturn\u001b[39;00m _convert_input(discovered_source_files, \u001b[39mformat\u001b[39;49m, \u001b[39m'\u001b[39;49m\u001b[39mpath\u001b[39;49m\u001b[39m'\u001b[39;49m, to, extra_args\u001b[39m=\u001b[39;49mextra_args,\n\u001b[1;32m    169\u001b[0m                   outputfile\u001b[39m=\u001b[39;49moutputfile, filters\u001b[39m=\u001b[39;49mfilters,\n\u001b[1;32m    170\u001b[0m                   verify_format\u001b[39m=\u001b[39;49mverify_format, sandbox\u001b[39m=\u001b[39;49msandbox,\n\u001b[1;32m    171\u001b[0m                   cworkdir\u001b[39m=\u001b[39;49mcworkdir)\n",
      "File \u001b[0;32m~/anaconda3/envs/fastapi/lib/python3.10/site-packages/pypandoc/__init__.py:426\u001b[0m, in \u001b[0;36m_convert_input\u001b[0;34m(source, format, input_type, to, extra_args, outputfile, filters, verify_format, sandbox, cworkdir)\u001b[0m\n\u001b[1;32m    424\u001b[0m \u001b[39m# check that pandoc returned successfully\u001b[39;00m\n\u001b[1;32m    425\u001b[0m \u001b[39mif\u001b[39;00m p\u001b[39m.\u001b[39mreturncode \u001b[39m!=\u001b[39m \u001b[39m0\u001b[39m:\n\u001b[0;32m--> 426\u001b[0m     \u001b[39mraise\u001b[39;00m \u001b[39mRuntimeError\u001b[39;00m(\n\u001b[1;32m    427\u001b[0m         \u001b[39m'\u001b[39m\u001b[39mPandoc died with exitcode \u001b[39m\u001b[39m\"\u001b[39m\u001b[39m%s\u001b[39;00m\u001b[39m\"\u001b[39m\u001b[39m during conversion: \u001b[39m\u001b[39m%s\u001b[39;00m\u001b[39m'\u001b[39m \u001b[39m%\u001b[39m (p\u001b[39m.\u001b[39mreturncode, stderr)\n\u001b[1;32m    428\u001b[0m     )\n\u001b[1;32m    430\u001b[0m \u001b[39m# if there is output on stderr, process it and send to logger\u001b[39;00m\n\u001b[1;32m    431\u001b[0m \u001b[39mif\u001b[39;00m stderr:\n",
      "\u001b[0;31mRuntimeError\u001b[0m: Pandoc died with exitcode \"47\" during conversion: pdflatex not found. Please select a different --pdf-engine or install pdflatex\n"
     ]
    }
   ],
   "source": [
    "pd.convert_file('TestFile.docx', 'pdf', outputfile=\"test.pdf\")"
   ]
  },
  {
   "cell_type": "code",
   "execution_count": 2,
   "metadata": {},
   "outputs": [],
   "source": [
    "import numpy as np\n"
   ]
  },
  {
   "cell_type": "code",
   "execution_count": 3,
   "metadata": {},
   "outputs": [
    {
     "name": "stdout",
     "output_type": "stream",
     "text": [
      "\u001b[0;31mDocstring:\u001b[0m\n",
      "arange([start,] stop[, step,], dtype=None, *, like=None)\n",
      "\n",
      "Return evenly spaced values within a given interval.\n",
      "\n",
      "``arange`` can be called with a varying number of positional arguments:\n",
      "\n",
      "* ``arange(stop)``: Values are generated within the half-open interval\n",
      "  ``[0, stop)`` (in other words, the interval including `start` but\n",
      "  excluding `stop`).\n",
      "* ``arange(start, stop)``: Values are generated within the half-open\n",
      "  interval ``[start, stop)``.\n",
      "* ``arange(start, stop, step)`` Values are generated within the half-open\n",
      "  interval ``[start, stop)``, with spacing between values given by\n",
      "  ``step``.\n",
      "\n",
      "For integer arguments the function is roughly equivalent to the Python\n",
      "built-in :py:class:`range`, but returns an ndarray rather than a ``range``\n",
      "instance.\n",
      "\n",
      "When using a non-integer step, such as 0.1, it is often better to use\n",
      "`numpy.linspace`.\n",
      "\n",
      "See the Warning sections below for more information.\n",
      "\n",
      "Parameters\n",
      "----------\n",
      "start : integer or real, optional\n",
      "    Start of interval.  The interval includes this value.  The default\n",
      "    start value is 0.\n",
      "stop : integer or real\n",
      "    End of interval.  The interval does not include this value, except\n",
      "    in some cases where `step` is not an integer and floating point\n",
      "    round-off affects the length of `out`.\n",
      "step : integer or real, optional\n",
      "    Spacing between values.  For any output `out`, this is the distance\n",
      "    between two adjacent values, ``out[i+1] - out[i]``.  The default\n",
      "    step size is 1.  If `step` is specified as a position argument,\n",
      "    `start` must also be given.\n",
      "dtype : dtype, optional\n",
      "    The type of the output array.  If `dtype` is not given, infer the data\n",
      "    type from the other input arguments.\n",
      "like : array_like, optional\n",
      "    Reference object to allow the creation of arrays which are not\n",
      "    NumPy arrays. If an array-like passed in as ``like`` supports\n",
      "    the ``__array_function__`` protocol, the result will be defined\n",
      "    by it. In this case, it ensures the creation of an array object\n",
      "    compatible with that passed in via this argument.\n",
      "\n",
      "    .. versionadded:: 1.20.0\n",
      "\n",
      "Returns\n",
      "-------\n",
      "arange : ndarray\n",
      "    Array of evenly spaced values.\n",
      "\n",
      "    For floating point arguments, the length of the result is\n",
      "    ``ceil((stop - start)/step)``.  Because of floating point overflow,\n",
      "    this rule may result in the last element of `out` being greater\n",
      "    than `stop`.\n",
      "\n",
      "Warnings\n",
      "--------\n",
      "The length of the output might not be numerically stable.\n",
      "\n",
      "Another stability issue is due to the internal implementation of\n",
      "`numpy.arange`.\n",
      "The actual step value used to populate the array is\n",
      "``dtype(start + step) - dtype(start)`` and not `step`. Precision loss\n",
      "can occur here, due to casting or due to using floating points when\n",
      "`start` is much larger than `step`. This can lead to unexpected\n",
      "behaviour. For example::\n",
      "\n",
      "  >>> np.arange(0, 5, 0.5, dtype=int)\n",
      "  array([0, 0, 0, 0, 0, 0, 0, 0, 0, 0])\n",
      "  >>> np.arange(-3, 3, 0.5, dtype=int)\n",
      "  array([-3, -2, -1,  0,  1,  2,  3,  4,  5,  6,  7,  8])\n",
      "\n",
      "In such cases, the use of `numpy.linspace` should be preferred.\n",
      "\n",
      "The built-in :py:class:`range` generates :std:doc:`Python built-in integers\n",
      "that have arbitrary size <c-api/long>`, while `numpy.arange` produces\n",
      "`numpy.int32` or `numpy.int64` numbers. This may result in incorrect\n",
      "results for large integer values::\n",
      "\n",
      "  >>> power = 40\n",
      "  >>> modulo = 10000\n",
      "  >>> x1 = [(n ** power) % modulo for n in range(8)]\n",
      "  >>> x2 = [(n ** power) % modulo for n in np.arange(8)]\n",
      "  >>> print(x1)\n",
      "  [0, 1, 7776, 8801, 6176, 625, 6576, 4001]  # correct\n",
      "  >>> print(x2)\n",
      "  [0, 1, 7776, 7185, 0, 5969, 4816, 3361]  # incorrect\n",
      "\n",
      "See Also\n",
      "--------\n",
      "numpy.linspace : Evenly spaced numbers with careful handling of endpoints.\n",
      "numpy.ogrid: Arrays of evenly spaced numbers in N-dimensions.\n",
      "numpy.mgrid: Grid-shaped arrays of evenly spaced numbers in N-dimensions.\n",
      "\n",
      "Examples\n",
      "--------\n",
      ">>> np.arange(3)\n",
      "array([0, 1, 2])\n",
      ">>> np.arange(3.0)\n",
      "array([ 0.,  1.,  2.])\n",
      ">>> np.arange(3,7)\n",
      "array([3, 4, 5, 6])\n",
      ">>> np.arange(3,7,2)\n",
      "array([3, 5])\n",
      "\u001b[0;31mType:\u001b[0m      builtin_function_or_method"
     ]
    }
   ],
   "source": [
    "np.arange?"
   ]
  },
  {
   "cell_type": "code",
   "execution_count": 4,
   "metadata": {},
   "outputs": [
    {
     "data": {
      "text/plain": [
       "array([18.5 , 18.51, 18.52, 18.53, 18.54, 18.55, 18.56, 18.57, 18.58,\n",
       "       18.59, 18.6 , 18.61, 18.62, 18.63, 18.64, 18.65, 18.66, 18.67,\n",
       "       18.68, 18.69, 18.7 , 18.71, 18.72, 18.73, 18.74, 18.75, 18.76,\n",
       "       18.77, 18.78, 18.79, 18.8 , 18.81, 18.82, 18.83, 18.84, 18.85,\n",
       "       18.86, 18.87, 18.88, 18.89, 18.9 , 18.91, 18.92, 18.93, 18.94,\n",
       "       18.95, 18.96, 18.97, 18.98, 18.99, 19.  , 19.01, 19.02, 19.03,\n",
       "       19.04, 19.05, 19.06, 19.07, 19.08, 19.09, 19.1 , 19.11, 19.12,\n",
       "       19.13, 19.14, 19.15, 19.16, 19.17, 19.18, 19.19, 19.2 , 19.21,\n",
       "       19.22, 19.23, 19.24, 19.25, 19.26, 19.27, 19.28, 19.29, 19.3 ,\n",
       "       19.31, 19.32, 19.33, 19.34, 19.35, 19.36, 19.37, 19.38, 19.39,\n",
       "       19.4 , 19.41, 19.42, 19.43, 19.44, 19.45, 19.46, 19.47, 19.48,\n",
       "       19.49, 19.5 , 19.51, 19.52, 19.53, 19.54, 19.55, 19.56, 19.57,\n",
       "       19.58, 19.59, 19.6 , 19.61, 19.62, 19.63, 19.64, 19.65, 19.66,\n",
       "       19.67, 19.68, 19.69, 19.7 , 19.71, 19.72, 19.73, 19.74, 19.75,\n",
       "       19.76, 19.77, 19.78, 19.79, 19.8 , 19.81, 19.82, 19.83, 19.84,\n",
       "       19.85, 19.86, 19.87, 19.88, 19.89, 19.9 , 19.91, 19.92, 19.93,\n",
       "       19.94, 19.95, 19.96, 19.97, 19.98, 19.99, 20.  , 20.01, 20.02,\n",
       "       20.03, 20.04, 20.05, 20.06, 20.07, 20.08, 20.09, 20.1 , 20.11,\n",
       "       20.12, 20.13, 20.14, 20.15, 20.16, 20.17, 20.18, 20.19, 20.2 ,\n",
       "       20.21, 20.22, 20.23, 20.24, 20.25, 20.26, 20.27, 20.28, 20.29,\n",
       "       20.3 , 20.31, 20.32, 20.33, 20.34, 20.35, 20.36, 20.37, 20.38,\n",
       "       20.39, 20.4 , 20.41, 20.42, 20.43, 20.44, 20.45, 20.46, 20.47,\n",
       "       20.48, 20.49, 20.5 , 20.51, 20.52, 20.53, 20.54, 20.55, 20.56,\n",
       "       20.57, 20.58, 20.59, 20.6 , 20.61, 20.62, 20.63, 20.64, 20.65,\n",
       "       20.66, 20.67, 20.68, 20.69, 20.7 , 20.71, 20.72, 20.73, 20.74,\n",
       "       20.75, 20.76, 20.77, 20.78, 20.79, 20.8 , 20.81, 20.82, 20.83,\n",
       "       20.84, 20.85, 20.86, 20.87, 20.88, 20.89, 20.9 , 20.91, 20.92,\n",
       "       20.93, 20.94, 20.95, 20.96, 20.97, 20.98, 20.99, 21.  , 21.01,\n",
       "       21.02, 21.03, 21.04, 21.05, 21.06, 21.07, 21.08, 21.09, 21.1 ,\n",
       "       21.11, 21.12, 21.13, 21.14, 21.15, 21.16, 21.17, 21.18, 21.19,\n",
       "       21.2 , 21.21, 21.22, 21.23, 21.24, 21.25, 21.26, 21.27, 21.28,\n",
       "       21.29, 21.3 , 21.31, 21.32, 21.33, 21.34, 21.35, 21.36, 21.37,\n",
       "       21.38, 21.39, 21.4 , 21.41, 21.42, 21.43, 21.44, 21.45, 21.46,\n",
       "       21.47, 21.48, 21.49, 21.5 , 21.51, 21.52, 21.53, 21.54, 21.55,\n",
       "       21.56, 21.57, 21.58, 21.59, 21.6 , 21.61, 21.62, 21.63, 21.64,\n",
       "       21.65, 21.66, 21.67, 21.68, 21.69, 21.7 , 21.71, 21.72, 21.73,\n",
       "       21.74, 21.75, 21.76, 21.77, 21.78, 21.79, 21.8 , 21.81, 21.82,\n",
       "       21.83, 21.84, 21.85, 21.86, 21.87, 21.88, 21.89, 21.9 , 21.91,\n",
       "       21.92, 21.93, 21.94, 21.95, 21.96, 21.97, 21.98, 21.99, 22.  ,\n",
       "       22.01, 22.02, 22.03, 22.04, 22.05, 22.06, 22.07, 22.08, 22.09,\n",
       "       22.1 , 22.11, 22.12, 22.13, 22.14, 22.15, 22.16, 22.17, 22.18,\n",
       "       22.19, 22.2 , 22.21, 22.22, 22.23, 22.24, 22.25, 22.26, 22.27,\n",
       "       22.28, 22.29, 22.3 , 22.31, 22.32, 22.33, 22.34, 22.35, 22.36,\n",
       "       22.37, 22.38, 22.39, 22.4 , 22.41, 22.42, 22.43, 22.44, 22.45,\n",
       "       22.46, 22.47, 22.48, 22.49, 22.5 , 22.51, 22.52, 22.53, 22.54,\n",
       "       22.55, 22.56, 22.57, 22.58, 22.59, 22.6 , 22.61, 22.62, 22.63,\n",
       "       22.64, 22.65, 22.66, 22.67, 22.68, 22.69, 22.7 , 22.71, 22.72,\n",
       "       22.73, 22.74, 22.75, 22.76, 22.77, 22.78, 22.79, 22.8 , 22.81,\n",
       "       22.82, 22.83, 22.84, 22.85, 22.86, 22.87, 22.88, 22.89, 22.9 ,\n",
       "       22.91, 22.92, 22.93, 22.94, 22.95, 22.96, 22.97, 22.98, 22.99,\n",
       "       23.  , 23.01, 23.02, 23.03, 23.04, 23.05, 23.06, 23.07, 23.08,\n",
       "       23.09, 23.1 , 23.11, 23.12, 23.13, 23.14, 23.15, 23.16, 23.17,\n",
       "       23.18, 23.19, 23.2 , 23.21, 23.22, 23.23, 23.24, 23.25, 23.26,\n",
       "       23.27, 23.28, 23.29, 23.3 , 23.31, 23.32, 23.33, 23.34, 23.35,\n",
       "       23.36, 23.37, 23.38, 23.39, 23.4 , 23.41, 23.42, 23.43, 23.44,\n",
       "       23.45, 23.46, 23.47, 23.48, 23.49, 23.5 , 23.51, 23.52, 23.53,\n",
       "       23.54, 23.55, 23.56, 23.57, 23.58, 23.59, 23.6 , 23.61, 23.62,\n",
       "       23.63, 23.64, 23.65, 23.66, 23.67, 23.68, 23.69, 23.7 , 23.71,\n",
       "       23.72, 23.73, 23.74, 23.75, 23.76, 23.77, 23.78, 23.79, 23.8 ,\n",
       "       23.81, 23.82, 23.83, 23.84, 23.85, 23.86, 23.87, 23.88, 23.89,\n",
       "       23.9 , 23.91, 23.92, 23.93, 23.94, 23.95, 23.96, 23.97, 23.98,\n",
       "       23.99, 24.  , 24.01, 24.02, 24.03, 24.04, 24.05, 24.06, 24.07,\n",
       "       24.08, 24.09, 24.1 , 24.11, 24.12, 24.13, 24.14, 24.15, 24.16,\n",
       "       24.17, 24.18, 24.19, 24.2 , 24.21, 24.22, 24.23, 24.24, 24.25,\n",
       "       24.26, 24.27, 24.28, 24.29, 24.3 , 24.31, 24.32, 24.33, 24.34,\n",
       "       24.35, 24.36, 24.37, 24.38, 24.39, 24.4 , 24.41, 24.42, 24.43,\n",
       "       24.44, 24.45, 24.46, 24.47, 24.48, 24.49, 24.5 , 24.51, 24.52,\n",
       "       24.53, 24.54, 24.55, 24.56, 24.57, 24.58, 24.59, 24.6 , 24.61,\n",
       "       24.62, 24.63, 24.64, 24.65, 24.66, 24.67, 24.68, 24.69, 24.7 ,\n",
       "       24.71, 24.72, 24.73, 24.74, 24.75, 24.76, 24.77, 24.78, 24.79,\n",
       "       24.8 , 24.81, 24.82, 24.83, 24.84, 24.85, 24.86, 24.87, 24.88,\n",
       "       24.89, 24.9 , 24.91, 24.92, 24.93, 24.94, 24.95, 24.96, 24.97,\n",
       "       24.98, 24.99])"
      ]
     },
     "execution_count": 4,
     "metadata": {},
     "output_type": "execute_result"
    }
   ],
   "source": [
    "np.arange(18.5, 25, 0.01)"
   ]
  },
  {
   "cell_type": "code",
   "execution_count": 8,
   "metadata": {},
   "outputs": [
    {
     "data": {
      "text/plain": [
       "False"
      ]
     },
     "execution_count": 8,
     "metadata": {},
     "output_type": "execute_result"
    }
   ],
   "source": [
    "\"29.76\" in list(np.arange(25, 30, 0.01))"
   ]
  },
  {
   "cell_type": "markdown",
   "metadata": {},
   "source": []
  },
  {
   "cell_type": "code",
   "execution_count": 10,
   "metadata": {},
   "outputs": [
    {
     "data": {
      "text/plain": [
       "False"
      ]
     },
     "execution_count": 10,
     "metadata": {},
     "output_type": "execute_result"
    }
   ],
   "source": [
    "4.2 in np.arange(4,7)"
   ]
  },
  {
   "cell_type": "code",
   "execution_count": null,
   "metadata": {},
   "outputs": [],
   "source": []
  }
 ],
 "metadata": {
  "kernelspec": {
   "display_name": "fastapi",
   "language": "python",
   "name": "python3"
  },
  "language_info": {
   "codemirror_mode": {
    "name": "ipython",
    "version": 3
   },
   "file_extension": ".py",
   "mimetype": "text/x-python",
   "name": "python",
   "nbconvert_exporter": "python",
   "pygments_lexer": "ipython3",
   "version": "3.10.9"
  },
  "orig_nbformat": 4
 },
 "nbformat": 4,
 "nbformat_minor": 2
}
